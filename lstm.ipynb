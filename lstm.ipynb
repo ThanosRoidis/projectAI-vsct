{
 "cells": [
  {
   "cell_type": "code",
   "execution_count": 1,
   "metadata": {
    "collapsed": false
   },
   "outputs": [],
   "source": [
    "import tensorflow as tf\n",
    "from tensorflow.contrib import rnn\n",
    "import numpy as np\n",
    "import random\n",
    "import pickle \n",
    "import matplotlib.pyplot as plt\n",
    "from collections import Counter\n",
    "import vist\n",
    "%matplotlib inline\n",
    "plt.rcParams['figure.figsize'] = (10, 10)"
   ]
  },
  {
   "cell_type": "markdown",
   "metadata": {},
   "source": [
    "# Caltech Story Classification"
   ]
  },
  {
   "cell_type": "code",
   "execution_count": 2,
   "metadata": {
    "collapsed": false
   },
   "outputs": [
    {
     "name": "stdout",
     "output_type": "stream",
     "text": [
      "Labeled and segmented the dataset into training/validation/test sets\n"
     ]
    }
   ],
   "source": [
    "with open(\"data/caltech_stories_dataset\", 'rb') as file:\n",
    "        caltech_stories_dataset = pickle.load(file)\n",
    "        \n",
    "\n",
    "type(caltech_stories_dataset)\n",
    "labels = [1] * 12000\n",
    "labels[7200:] = [0] * 4800\n",
    "\n",
    "caltech_stories_dataset = np.array(caltech_stories_dataset)\n",
    "labels = np.array(labels)\n",
    "\n",
    "#shuffle and create datasets\n",
    "indices = list(range(12000))\n",
    "random.shuffle(indices)\n",
    "\n",
    "labels = labels[indices]\n",
    "caltech_stories_dataset = caltech_stories_dataset[indices]\n",
    "\n",
    "\n",
    "train = {\"features\" : {\"filenames\" : caltech_stories_dataset[:10000,:]}, \"labels\" : labels[:10000]}\n",
    "valid = {\"features\" : {\"filenames\" : caltech_stories_dataset[10000:11000,:]}, \"labels\" : labels[10000:11000]}\n",
    "test = {\"features\" : {\"filenames\" : caltech_stories_dataset[11000:,:]}, \"labels\" : labels[11000:]}\n",
    "\n",
    "caltech_data = {\"training\": train, \"validation\": valid, \"test\" : test}\n",
    "print(\"Labeled and segmented the dataset into training/validation/test sets\")"
   ]
  },
  {
   "cell_type": "code",
   "execution_count": 3,
   "metadata": {
    "collapsed": false
   },
   "outputs": [
    {
     "name": "stdout",
     "output_type": "stream",
     "text": [
      "Loaded fc7 and fc8 features\n"
     ]
    }
   ],
   "source": [
    "with open(\"data/caltech_features\", 'rb') as file:\n",
    "        caltech_features = pickle.load(file)\n",
    "        \n",
    "        \n",
    "for _set in caltech_data:\n",
    "    features = caltech_data[_set][\"features\"]\n",
    "    filenames = features[\"filenames\"]\n",
    "    features[\"fc7_features\"] = []\n",
    "    features[\"fc8_features\"] = []\n",
    "    \n",
    "    for story in filenames:\n",
    "        \n",
    "        fc7_features_story = []\n",
    "        fc8_features_story = []\n",
    "        \n",
    "        for img_filename in story:\n",
    "            tokens = img_filename.split(\"/\")\n",
    "            class_name = tokens[-2]\n",
    "            img_name = tokens[-1] \n",
    "            \n",
    "            fc7 = caltech_features[class_name][img_name][\"fc7\"]\n",
    "            fc8 = caltech_features[class_name][img_name][\"fc8\"]\n",
    "            \n",
    "            fc7_features_story.append(fc7) \n",
    "            fc8_features_story.append(fc8)\n",
    "        \n",
    "        features[\"fc7_features\"].append(fc7_features_story) \n",
    "        features[\"fc8_features\"].append(fc8_features_story)\n",
    "\n",
    "print(\"Loaded fc7 and fc8 features\")"
   ]
  },
  {
   "cell_type": "code",
   "execution_count": 4,
   "metadata": {
    "collapsed": false
   },
   "outputs": [
    {
     "data": {
      "text/plain": [
       "dict_keys(['test', 'validation', 'training'])"
      ]
     },
     "execution_count": 4,
     "metadata": {},
     "output_type": "execute_result"
    }
   ],
   "source": [
    "caltech_data.keys()"
   ]
  },
  {
   "cell_type": "code",
   "execution_count": 5,
   "metadata": {
    "collapsed": false
   },
   "outputs": [
    {
     "data": {
      "text/plain": [
       "dict_keys(['features', 'labels'])"
      ]
     },
     "execution_count": 5,
     "metadata": {},
     "output_type": "execute_result"
    }
   ],
   "source": [
    "caltech_data['training'].keys()"
   ]
  },
  {
   "cell_type": "code",
   "execution_count": 6,
   "metadata": {
    "collapsed": false
   },
   "outputs": [
    {
     "data": {
      "text/plain": [
       "dict_keys(['fc8_features', 'fc7_features', 'filenames'])"
      ]
     },
     "execution_count": 6,
     "metadata": {},
     "output_type": "execute_result"
    }
   ],
   "source": [
    "caltech_data['training']['features'].keys()"
   ]
  },
  {
   "cell_type": "code",
   "execution_count": 7,
   "metadata": {
    "collapsed": false
   },
   "outputs": [
    {
     "data": {
      "text/plain": [
       "5"
      ]
     },
     "execution_count": 7,
     "metadata": {},
     "output_type": "execute_result"
    }
   ],
   "source": [
    "len(caltech_data['test']['features']['fc8_features'][0])"
   ]
  },
  {
   "cell_type": "markdown",
   "metadata": {},
   "source": [
    "# LSTM"
   ]
  },
  {
   "cell_type": "code",
   "execution_count": 8,
   "metadata": {
    "collapsed": false
   },
   "outputs": [],
   "source": [
    "def get_batch(iterable, n=1):\n",
    "    \"\"\"\n",
    "    Yields an iteratable\n",
    "    \"\"\"\n",
    "    l = len(iterable)\n",
    "    for ndx in range(0, l, n):\n",
    "        yield iterable[ndx:min(ndx + n, l)]\n",
    "        \n",
    "\n",
    "def create_batches(data, batch_size = 100):\n",
    "    \n",
    "    batches = list()\n",
    "    for batch in get_batch(data, batch_size):\n",
    "        batches.append(batch)\n",
    "    \n",
    "    return batches"
   ]
  },
  {
   "cell_type": "code",
   "execution_count": 9,
   "metadata": {
    "collapsed": true
   },
   "outputs": [],
   "source": [
    "# Parameters\n",
    "learning_rate = 0.001\n",
    "training_iters = 100000\n",
    "batch_size = 100\n",
    "# display_step = 10\n",
    "\n",
    "# Network Parameters\n",
    "n_input = 1000 # MNIST data input (img shape: vector 1000)\n",
    "n_steps = 5 # timesteps\n",
    "n_hidden = 128 # hidden layer num of features\n",
    "n_classes = 2  # true false\n",
    "\n",
    "# tf Graph input\n",
    "x = tf.placeholder(\"float\", [None, n_steps, n_input])\n",
    "y = tf.placeholder(\"float\", [None, n_classes])\n",
    "\n",
    "# Define weights\n",
    "weights = {\n",
    "    'out': tf.Variable(tf.random_normal([n_hidden, n_classes]))\n",
    "}\n",
    "biases = {\n",
    "    'out': tf.Variable(tf.random_normal([n_classes]))\n",
    "}"
   ]
  },
  {
   "cell_type": "code",
   "execution_count": 10,
   "metadata": {
    "collapsed": true
   },
   "outputs": [],
   "source": [
    "def RNN(x, weights, biases):\n",
    "\n",
    "    # Prepare data shape to match `rnn` function requirements\n",
    "    # Current data input shape: (batch_size, n_steps, n_input)\n",
    "    # Required shape: 'n_steps' tensors list of shape (batch_size, n_input)\n",
    "    \n",
    "    # Unstack to get a list of 'n_steps' tensors of shape (batch_size, n_input)\n",
    "    x = tf.unstack(x, n_steps, 1)\n",
    "\n",
    "    # Define a lstm cell with tensorflow\n",
    "    lstm_cell = rnn.BasicLSTMCell(n_hidden, forget_bias=1.0)\n",
    "\n",
    "    # Get lstm cell output\n",
    "    outputs, states = rnn.static_rnn(lstm_cell, x, dtype=tf.float32)\n",
    "\n",
    "    # Linear activation, using rnn inner loop last output\n",
    "    return tf.matmul(outputs[-1], weights['out']) + biases['out']\n",
    "\n",
    "pred = RNN(x, weights, biases)\n",
    "\n",
    "# Define loss and optimizer\n",
    "cost = tf.reduce_mean(tf.nn.softmax_cross_entropy_with_logits(logits=pred, labels=y))\n",
    "optimizer = tf.train.AdamOptimizer(learning_rate=learning_rate).minimize(cost)\n",
    "\n",
    "# Evaluate model\n",
    "correct_pred = tf.equal(tf.argmax(pred,1), tf.argmax(y,1))\n",
    "accuracy = tf.reduce_mean(tf.cast(correct_pred, tf.float32))\n",
    "\n",
    "# Initializing the variables\n",
    "init = tf.global_variables_initializer()"
   ]
  },
  {
   "cell_type": "code",
   "execution_count": 14,
   "metadata": {
    "collapsed": false
   },
   "outputs": [
    {
     "name": "stdout",
     "output_type": "stream",
     "text": [
      "Batch 0, Minibatch Loss= 6.778980, Training Accuracy= 0.56000\n",
      "Batch 1, Minibatch Loss= 3.243359, Training Accuracy= 0.77000\n",
      "Batch 2, Minibatch Loss= 1.768178, Training Accuracy= 0.89000\n",
      "Batch 3, Minibatch Loss= 1.024702, Training Accuracy= 0.93000\n",
      "Batch 4, Minibatch Loss= 0.580544, Training Accuracy= 0.96000\n",
      "Batch 5, Minibatch Loss= 0.248796, Training Accuracy= 0.96000\n",
      "Batch 6, Minibatch Loss= 0.033994, Training Accuracy= 0.99000\n",
      "Batch 7, Minibatch Loss= 0.001466, Training Accuracy= 1.00000\n",
      "Batch 8, Minibatch Loss= 0.000028, Training Accuracy= 1.00000\n",
      "Batch 9, Minibatch Loss= 0.000004, Training Accuracy= 1.00000\n",
      "Batch 10, Minibatch Loss= 0.000046, Training Accuracy= 1.00000\n",
      "Batch 11, Minibatch Loss= 0.000370, Training Accuracy= 1.00000\n",
      "Batch 12, Minibatch Loss= 0.001194, Training Accuracy= 1.00000\n",
      "Batch 13, Minibatch Loss= 0.001913, Training Accuracy= 1.00000\n",
      "Batch 14, Minibatch Loss= 0.001718, Training Accuracy= 1.00000\n",
      "Batch 15, Minibatch Loss= 0.001335, Training Accuracy= 1.00000\n",
      "Batch 16, Minibatch Loss= 0.001328, Training Accuracy= 1.00000\n",
      "Batch 17, Minibatch Loss= 0.001611, Training Accuracy= 1.00000\n",
      "Batch 18, Minibatch Loss= 0.001980, Training Accuracy= 1.00000\n",
      "Batch 19, Minibatch Loss= 0.002156, Training Accuracy= 1.00000\n",
      "Batch 20, Minibatch Loss= 0.001979, Training Accuracy= 1.00000\n",
      "Batch 21, Minibatch Loss= 0.001560, Training Accuracy= 1.00000\n",
      "Batch 22, Minibatch Loss= 0.001121, Training Accuracy= 1.00000\n",
      "Batch 23, Minibatch Loss= 0.000787, Training Accuracy= 1.00000\n",
      "Batch 24, Minibatch Loss= 0.000562, Training Accuracy= 1.00000\n",
      "Batch 25, Minibatch Loss= 0.000414, Training Accuracy= 1.00000\n",
      "Batch 26, Minibatch Loss= 0.000315, Training Accuracy= 1.00000\n",
      "Batch 27, Minibatch Loss= 0.000246, Training Accuracy= 1.00000\n",
      "Batch 28, Minibatch Loss= 0.000198, Training Accuracy= 1.00000\n",
      "Batch 29, Minibatch Loss= 0.000162, Training Accuracy= 1.00000\n",
      "Batch 30, Minibatch Loss= 0.000136, Training Accuracy= 1.00000\n",
      "Batch 31, Minibatch Loss= 0.000115, Training Accuracy= 1.00000\n",
      "Batch 32, Minibatch Loss= 0.000099, Training Accuracy= 1.00000\n",
      "Batch 33, Minibatch Loss= 0.000087, Training Accuracy= 1.00000\n",
      "Batch 34, Minibatch Loss= 0.000077, Training Accuracy= 1.00000\n",
      "Batch 35, Minibatch Loss= 0.000069, Training Accuracy= 1.00000\n",
      "Batch 36, Minibatch Loss= 0.000062, Training Accuracy= 1.00000\n",
      "Batch 37, Minibatch Loss= 0.000057, Training Accuracy= 1.00000\n",
      "Batch 38, Minibatch Loss= 0.000052, Training Accuracy= 1.00000\n",
      "Batch 39, Minibatch Loss= 0.000048, Training Accuracy= 1.00000\n",
      "Batch 40, Minibatch Loss= 0.000045, Training Accuracy= 1.00000\n",
      "Batch 41, Minibatch Loss= 0.000042, Training Accuracy= 1.00000\n",
      "Batch 42, Minibatch Loss= 0.000039, Training Accuracy= 1.00000\n",
      "Batch 43, Minibatch Loss= 0.000037, Training Accuracy= 1.00000\n",
      "Batch 44, Minibatch Loss= 0.000035, Training Accuracy= 1.00000\n",
      "Batch 45, Minibatch Loss= 0.000034, Training Accuracy= 1.00000\n",
      "Batch 46, Minibatch Loss= 0.000032, Training Accuracy= 1.00000\n",
      "Batch 47, Minibatch Loss= 0.000031, Training Accuracy= 1.00000\n",
      "Batch 48, Minibatch Loss= 0.000030, Training Accuracy= 1.00000\n",
      "Batch 49, Minibatch Loss= 0.000028, Training Accuracy= 1.00000\n",
      "Batch 50, Minibatch Loss= 0.000027, Training Accuracy= 1.00000\n",
      "Batch 51, Minibatch Loss= 0.000027, Training Accuracy= 1.00000\n",
      "Batch 52, Minibatch Loss= 0.000026, Training Accuracy= 1.00000\n",
      "Batch 53, Minibatch Loss= 0.000025, Training Accuracy= 1.00000\n",
      "Batch 54, Minibatch Loss= 0.000024, Training Accuracy= 1.00000\n",
      "Batch 55, Minibatch Loss= 0.000024, Training Accuracy= 1.00000\n",
      "Batch 56, Minibatch Loss= 0.000023, Training Accuracy= 1.00000\n",
      "Batch 57, Minibatch Loss= 0.000023, Training Accuracy= 1.00000\n",
      "Batch 58, Minibatch Loss= 0.000022, Training Accuracy= 1.00000\n",
      "Batch 59, Minibatch Loss= 0.000022, Training Accuracy= 1.00000\n",
      "Batch 60, Minibatch Loss= 0.000021, Training Accuracy= 1.00000\n",
      "Batch 61, Minibatch Loss= 0.000021, Training Accuracy= 1.00000\n",
      "Batch 62, Minibatch Loss= 0.000021, Training Accuracy= 1.00000\n",
      "Batch 63, Minibatch Loss= 0.000020, Training Accuracy= 1.00000\n",
      "Batch 64, Minibatch Loss= 0.000020, Training Accuracy= 1.00000\n",
      "Batch 65, Minibatch Loss= 0.000020, Training Accuracy= 1.00000\n",
      "Batch 66, Minibatch Loss= 0.000019, Training Accuracy= 1.00000\n",
      "Batch 67, Minibatch Loss= 0.000019, Training Accuracy= 1.00000\n",
      "Batch 68, Minibatch Loss= 0.000019, Training Accuracy= 1.00000\n",
      "Batch 69, Minibatch Loss= 0.000019, Training Accuracy= 1.00000\n",
      "Batch 70, Minibatch Loss= 0.000018, Training Accuracy= 1.00000\n",
      "Batch 71, Minibatch Loss= 0.000018, Training Accuracy= 1.00000\n",
      "Batch 72, Minibatch Loss= 0.000018, Training Accuracy= 1.00000\n",
      "Batch 73, Minibatch Loss= 0.000018, Training Accuracy= 1.00000\n",
      "Batch 74, Minibatch Loss= 0.000017, Training Accuracy= 1.00000\n",
      "Batch 75, Minibatch Loss= 0.000017, Training Accuracy= 1.00000\n",
      "Batch 76, Minibatch Loss= 0.000017, Training Accuracy= 1.00000\n",
      "Batch 77, Minibatch Loss= 0.000017, Training Accuracy= 1.00000\n",
      "Batch 78, Minibatch Loss= 0.000017, Training Accuracy= 1.00000\n",
      "Batch 79, Minibatch Loss= 0.000017, Training Accuracy= 1.00000\n",
      "Batch 80, Minibatch Loss= 0.000016, Training Accuracy= 1.00000\n",
      "Batch 81, Minibatch Loss= 0.000016, Training Accuracy= 1.00000\n",
      "Batch 82, Minibatch Loss= 0.000016, Training Accuracy= 1.00000\n",
      "Batch 83, Minibatch Loss= 0.000016, Training Accuracy= 1.00000\n",
      "Batch 84, Minibatch Loss= 0.000016, Training Accuracy= 1.00000\n",
      "Batch 85, Minibatch Loss= 0.000016, Training Accuracy= 1.00000\n",
      "Batch 86, Minibatch Loss= 0.000015, Training Accuracy= 1.00000\n",
      "Batch 87, Minibatch Loss= 0.000015, Training Accuracy= 1.00000\n",
      "Batch 88, Minibatch Loss= 0.000015, Training Accuracy= 1.00000\n",
      "Batch 89, Minibatch Loss= 0.000015, Training Accuracy= 1.00000\n",
      "Batch 90, Minibatch Loss= 0.000015, Training Accuracy= 1.00000\n",
      "Batch 91, Minibatch Loss= 0.000015, Training Accuracy= 1.00000\n",
      "Batch 92, Minibatch Loss= 0.000015, Training Accuracy= 1.00000\n",
      "Batch 93, Minibatch Loss= 0.000014, Training Accuracy= 1.00000\n",
      "Batch 94, Minibatch Loss= 0.000014, Training Accuracy= 1.00000\n",
      "Batch 95, Minibatch Loss= 0.000014, Training Accuracy= 1.00000\n",
      "Batch 96, Minibatch Loss= 0.000014, Training Accuracy= 1.00000\n",
      "Batch 97, Minibatch Loss= 0.000014, Training Accuracy= 1.00000\n",
      "Batch 98, Minibatch Loss= 0.000014, Training Accuracy= 1.00000\n",
      "Batch 99, Minibatch Loss= 0.000014, Training Accuracy= 1.00000\n",
      "Optimization Finished!\n"
     ]
    }
   ],
   "source": [
    "# Launch the graph\n",
    "with tf.Session() as sess:\n",
    "    \n",
    "    # create batches for data and labels \n",
    "    data = caltech_data['training']['features']['fc8_features']\n",
    "    data_labels = caltech_data['training']['labels']\n",
    "    batches_x = create_batches(data, batch_size)\n",
    "    batches_y = create_batches(data_labels, batch_size)\n",
    "\n",
    "    num_of_batches = np.shape(batches_x)[0]\n",
    "    \n",
    "    sess.run(init)\n",
    "    step = 1\n",
    "    epochs = 2\n",
    "\n",
    "    # Keep training until reach max iterations\n",
    "    while step  < epochs:\n",
    "        \n",
    "        for i in range(num_of_batches):\n",
    "            # transform x\n",
    "            batch_x = np.zeros((100, 5000))\n",
    "            r = 0\n",
    "            for story_imgs in batches_x[0]:\n",
    "                # initialize empty vector\n",
    "                row = np.empty(0)\n",
    "                for img_features in story_imgs:\n",
    "                    row = np.append(row, img_features)\n",
    "\n",
    "                batch_x[r, :] = row\n",
    "                r = r + 1\n",
    "            #\n",
    "            batch_x = batch_x.reshape((100, 5, 1000))\n",
    "            \n",
    "            # labels to one hot representation\n",
    "            batch_y = np.zeros((100, 2))\n",
    "            r = 0\n",
    "            for label in batches_y[0]:\n",
    "                if label == 0:\n",
    "                    batch_y[r, :] = np.array([1,0])\n",
    "                else:\n",
    "                    batch_y[r, :] = np.array([0,1])\n",
    "\n",
    "                r = r + 1\n",
    "            #\n",
    "            \n",
    "            sess.run(optimizer, feed_dict={x: batch_x, y: batch_y})\n",
    "            # Calculate batch accuracy\n",
    "            acc = sess.run(accuracy, feed_dict={x: batch_x, y: batch_y})\n",
    "            # Calculate batch loss\n",
    "            loss = sess.run(cost, feed_dict={x: batch_x, y: batch_y})\n",
    "            print (\"Batch \" + str(i) + \", Minibatch Loss= \" + \\\n",
    "                  \"{:.6f}\".format(loss) + \", Training Accuracy= \" + \\\n",
    "                  \"{:.5f}\".format(acc))\n",
    "            step += 1\n",
    "        print (\"Optimization Finished!\")\n",
    "\n",
    "#     # Calculate accuracy for 128 mnist test images\n",
    "#     test_len = 128\n",
    "#     test_data = mnist.test.images[:test_len].reshape((-1, n_steps, n_input))\n",
    "#     test_label = mnist.test.labels[:test_len]\n",
    "#     print (\"Testing Accuracy:\", \\\n",
    "#         sess.run(accuracy, feed_dict={x: test_data, y: test_label})"
   ]
  },
  {
   "cell_type": "markdown",
   "metadata": {},
   "source": [
    "### MNIST example"
   ]
  },
  {
   "cell_type": "code",
   "execution_count": 5,
   "metadata": {
    "collapsed": false
   },
   "outputs": [
    {
     "name": "stdout",
     "output_type": "stream",
     "text": [
      "Iter 1280, Minibatch Loss= 1.938751, Training Accuracy= 0.32031\n",
      "Iter 2560, Minibatch Loss= 1.539190, Training Accuracy= 0.47656\n",
      "Iter 3840, Minibatch Loss= 1.279017, Training Accuracy= 0.61719\n",
      "Iter 5120, Minibatch Loss= 1.198248, Training Accuracy= 0.58594\n",
      "Iter 6400, Minibatch Loss= 0.941516, Training Accuracy= 0.71094\n",
      "Iter 7680, Minibatch Loss= 0.715814, Training Accuracy= 0.75781\n",
      "Iter 8960, Minibatch Loss= 0.527712, Training Accuracy= 0.85938\n",
      "Iter 10240, Minibatch Loss= 0.462727, Training Accuracy= 0.85156\n",
      "Iter 11520, Minibatch Loss= 0.492773, Training Accuracy= 0.84375\n",
      "Iter 12800, Minibatch Loss= 0.425529, Training Accuracy= 0.84375\n",
      "Iter 14080, Minibatch Loss= 0.402597, Training Accuracy= 0.88281\n",
      "Iter 15360, Minibatch Loss= 0.635651, Training Accuracy= 0.78125\n",
      "Iter 16640, Minibatch Loss= 0.342599, Training Accuracy= 0.89062\n",
      "Iter 17920, Minibatch Loss= 0.377497, Training Accuracy= 0.84375\n",
      "Iter 19200, Minibatch Loss= 0.350818, Training Accuracy= 0.85938\n",
      "Iter 20480, Minibatch Loss= 0.299029, Training Accuracy= 0.91406\n",
      "Iter 21760, Minibatch Loss= 0.333785, Training Accuracy= 0.89062\n",
      "Iter 23040, Minibatch Loss= 0.198441, Training Accuracy= 0.94531\n",
      "Iter 24320, Minibatch Loss= 0.400860, Training Accuracy= 0.84375\n",
      "Iter 25600, Minibatch Loss= 0.328430, Training Accuracy= 0.91406\n",
      "Iter 26880, Minibatch Loss= 0.331302, Training Accuracy= 0.90625\n",
      "Iter 28160, Minibatch Loss= 0.217013, Training Accuracy= 0.93750\n",
      "Iter 29440, Minibatch Loss= 0.327517, Training Accuracy= 0.89844\n",
      "Iter 30720, Minibatch Loss= 0.287576, Training Accuracy= 0.92969\n",
      "Iter 32000, Minibatch Loss= 0.123637, Training Accuracy= 0.95312\n",
      "Iter 33280, Minibatch Loss= 0.195327, Training Accuracy= 0.95312\n",
      "Iter 34560, Minibatch Loss= 0.071383, Training Accuracy= 0.97656\n",
      "Iter 35840, Minibatch Loss= 0.302464, Training Accuracy= 0.89844\n",
      "Iter 37120, Minibatch Loss= 0.217301, Training Accuracy= 0.90625\n",
      "Iter 38400, Minibatch Loss= 0.185285, Training Accuracy= 0.92188\n",
      "Iter 39680, Minibatch Loss= 0.130913, Training Accuracy= 0.96094\n",
      "Iter 40960, Minibatch Loss= 0.227351, Training Accuracy= 0.93750\n",
      "Iter 42240, Minibatch Loss= 0.094401, Training Accuracy= 0.96875\n",
      "Iter 43520, Minibatch Loss= 0.093969, Training Accuracy= 0.97656\n",
      "Iter 44800, Minibatch Loss= 0.213013, Training Accuracy= 0.94531\n",
      "Iter 46080, Minibatch Loss= 0.233550, Training Accuracy= 0.92188\n",
      "Iter 47360, Minibatch Loss= 0.132095, Training Accuracy= 0.95312\n",
      "Iter 48640, Minibatch Loss= 0.149626, Training Accuracy= 0.96875\n",
      "Iter 49920, Minibatch Loss= 0.144960, Training Accuracy= 0.93750\n",
      "Iter 51200, Minibatch Loss= 0.112778, Training Accuracy= 0.97656\n",
      "Iter 52480, Minibatch Loss= 0.306634, Training Accuracy= 0.92969\n",
      "Iter 53760, Minibatch Loss= 0.138410, Training Accuracy= 0.96094\n",
      "Iter 55040, Minibatch Loss= 0.090523, Training Accuracy= 0.98438\n",
      "Iter 56320, Minibatch Loss= 0.089456, Training Accuracy= 0.96875\n",
      "Iter 57600, Minibatch Loss= 0.238669, Training Accuracy= 0.90625\n",
      "Iter 58880, Minibatch Loss= 0.079343, Training Accuracy= 0.98438\n",
      "Iter 60160, Minibatch Loss= 0.077097, Training Accuracy= 0.97656\n",
      "Iter 61440, Minibatch Loss= 0.290055, Training Accuracy= 0.90625\n",
      "Iter 62720, Minibatch Loss= 0.108842, Training Accuracy= 0.96094\n",
      "Iter 64000, Minibatch Loss= 0.083155, Training Accuracy= 0.97656\n",
      "Iter 65280, Minibatch Loss= 0.272316, Training Accuracy= 0.91406\n",
      "Iter 66560, Minibatch Loss= 0.101691, Training Accuracy= 0.96094\n",
      "Iter 67840, Minibatch Loss= 0.110672, Training Accuracy= 0.96094\n",
      "Iter 69120, Minibatch Loss= 0.088496, Training Accuracy= 0.98438\n",
      "Iter 70400, Minibatch Loss= 0.132092, Training Accuracy= 0.96875\n",
      "Iter 71680, Minibatch Loss= 0.156019, Training Accuracy= 0.95312\n",
      "Iter 72960, Minibatch Loss= 0.184547, Training Accuracy= 0.93750\n",
      "Iter 74240, Minibatch Loss= 0.103021, Training Accuracy= 0.96875\n",
      "Iter 75520, Minibatch Loss= 0.063197, Training Accuracy= 0.98438\n",
      "Iter 76800, Minibatch Loss= 0.072530, Training Accuracy= 0.96875\n",
      "Iter 78080, Minibatch Loss= 0.075161, Training Accuracy= 0.96875\n",
      "Iter 79360, Minibatch Loss= 0.144357, Training Accuracy= 0.95312\n",
      "Iter 80640, Minibatch Loss= 0.078908, Training Accuracy= 0.96875\n",
      "Iter 81920, Minibatch Loss= 0.109575, Training Accuracy= 0.96875\n",
      "Iter 83200, Minibatch Loss= 0.110254, Training Accuracy= 0.95312\n",
      "Iter 84480, Minibatch Loss= 0.111535, Training Accuracy= 0.96875\n",
      "Iter 85760, Minibatch Loss= 0.145866, Training Accuracy= 0.93750\n",
      "Iter 87040, Minibatch Loss= 0.252437, Training Accuracy= 0.92188\n",
      "Iter 88320, Minibatch Loss= 0.077910, Training Accuracy= 0.96094\n",
      "Iter 89600, Minibatch Loss= 0.095814, Training Accuracy= 0.97656\n",
      "Iter 90880, Minibatch Loss= 0.084544, Training Accuracy= 0.97656\n",
      "Iter 92160, Minibatch Loss= 0.162918, Training Accuracy= 0.95312\n",
      "Iter 93440, Minibatch Loss= 0.103928, Training Accuracy= 0.96094\n",
      "Iter 94720, Minibatch Loss= 0.143697, Training Accuracy= 0.95312\n",
      "Iter 96000, Minibatch Loss= 0.085491, Training Accuracy= 0.96875\n",
      "Iter 97280, Minibatch Loss= 0.041493, Training Accuracy= 1.00000\n",
      "Iter 98560, Minibatch Loss= 0.078398, Training Accuracy= 0.96875\n",
      "Iter 99840, Minibatch Loss= 0.139900, Training Accuracy= 0.97656\n",
      "Optimization Finished!\n",
      "Testing Accuracy: 0.992188\n"
     ]
    }
   ],
   "source": [
    "# Launch the graph\n",
    "with tf.Session() as sess:\n",
    "    sess.run(init)\n",
    "    step = 1\n",
    "    # Keep training until reach max iterations\n",
    "    while step * batch_size < training_iters:\n",
    "        batch_x, batch_y = mnist.train.next_batch(batch_size)\n",
    "        # Reshape data to get 28 seq of 28 elements\n",
    "        batch_x = batch_x.reshape((batch_size, n_steps, n_input))\n",
    "        # Run optimization op (backprop)\n",
    "        sess.run(optimizer, feed_dict={x: batch_x, y: batch_y})\n",
    "        if step % display_step == 0:\n",
    "            # Calculate batch accuracy\n",
    "            acc = sess.run(accuracy, feed_dict={x: batch_x, y: batch_y})\n",
    "            # Calculate batch loss\n",
    "            loss = sess.run(cost, feed_dict={x: batch_x, y: batch_y})\n",
    "            print (\"Iter \" + str(step*batch_size) + \", Minibatch Loss= \" + \\\n",
    "                  \"{:.6f}\".format(loss) + \", Training Accuracy= \" + \\\n",
    "                  \"{:.5f}\".format(acc))\n",
    "        step += 1\n",
    "    print (\"Optimization Finished!\")\n",
    "\n",
    "    # Calculate accuracy for 128 mnist test images\n",
    "    test_len = 128\n",
    "    test_data = mnist.test.images[:test_len].reshape((-1, n_steps, n_input))\n",
    "    test_label = mnist.test.labels[:test_len]\n",
    "    print (\"Testing Accuracy:\", \\\n",
    "        sess.run(accuracy, feed_dict={x: test_data, y: test_label}))"
   ]
  },
  {
   "cell_type": "code",
   "execution_count": null,
   "metadata": {
    "collapsed": true
   },
   "outputs": [],
   "source": []
  }
 ],
 "metadata": {
  "anaconda-cloud": {},
  "kernelspec": {
   "display_name": "Python [conda env:py35]",
   "language": "python",
   "name": "conda-env-py35-py"
  },
  "language_info": {
   "codemirror_mode": {
    "name": "ipython",
    "version": 3
   },
   "file_extension": ".py",
   "mimetype": "text/x-python",
   "name": "python",
   "nbconvert_exporter": "python",
   "pygments_lexer": "ipython3",
   "version": "3.5.3"
  }
 },
 "nbformat": 4,
 "nbformat_minor": 1
}
