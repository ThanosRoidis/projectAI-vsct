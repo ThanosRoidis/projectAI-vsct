{
 "cells": [
  {
   "cell_type": "code",
   "execution_count": 3,
   "metadata": {
    "collapsed": false
   },
   "outputs": [],
   "source": [
    "import tensorflow as tf\n",
    "from tensorflow.contrib import rnn\n",
    "import numpy as np\n",
    "import random\n",
    "import pickle \n",
    "import matplotlib.pyplot as plt\n",
    "from collections import Counter\n",
    "import vist\n",
    "%matplotlib inline\n",
    "plt.rcParams['figure.figsize'] = (10, 10)"
   ]
  },
  {
   "cell_type": "markdown",
   "metadata": {},
   "source": [
    "# Caltech Story Classification"
   ]
  },
  {
   "cell_type": "code",
   "execution_count": 4,
   "metadata": {
    "collapsed": false
   },
   "outputs": [
    {
     "name": "stdout",
     "output_type": "stream",
     "text": [
      "Labeled and segmented the dataset into training/validation/test sets\n"
     ]
    }
   ],
   "source": [
    "with open(\"data/caltech_stories_dataset\", 'rb') as file:\n",
    "        caltech_stories_dataset = pickle.load(file)\n",
    "        \n",
    "\n",
    "type(caltech_stories_dataset)\n",
    "labels = [1] * 12000\n",
    "labels[7200:] = [0] * 4800\n",
    "\n",
    "caltech_stories_dataset = np.array(caltech_stories_dataset)\n",
    "labels = np.array(labels)\n",
    "\n",
    "#shuffle and create datasets\n",
    "indices = list(range(12000))\n",
    "random.shuffle(indices)\n",
    "\n",
    "labels = labels[indices]\n",
    "caltech_stories_dataset = caltech_stories_dataset[indices]\n",
    "\n",
    "\n",
    "train = {\"features\" : {\"filenames\" : caltech_stories_dataset[:10000,:]}, \"labels\" : labels[:10000]}\n",
    "valid = {\"features\" : {\"filenames\" : caltech_stories_dataset[10000:11000,:]}, \"labels\" : labels[10000:11000]}\n",
    "test = {\"features\" : {\"filenames\" : caltech_stories_dataset[11000:,:]}, \"labels\" : labels[11000:]}\n",
    "\n",
    "caltech_data = {\"training\": train, \"validation\": valid, \"test\" : test}\n",
    "print(\"Labeled and segmented the dataset into training/validation/test sets\")"
   ]
  },
  {
   "cell_type": "code",
   "execution_count": 5,
   "metadata": {
    "collapsed": false
   },
   "outputs": [
    {
     "name": "stdout",
     "output_type": "stream",
     "text": [
      "Loaded fc7 and fc8 features\n"
     ]
    }
   ],
   "source": [
    "with open(\"data/caltech_features\", 'rb') as file:\n",
    "        caltech_features = pickle.load(file)\n",
    "        \n",
    "        \n",
    "for _set in caltech_data:\n",
    "    features = caltech_data[_set][\"features\"]\n",
    "    filenames = features[\"filenames\"]\n",
    "    features[\"fc7_features\"] = []\n",
    "    features[\"fc8_features\"] = []\n",
    "    \n",
    "    for story in filenames:\n",
    "        \n",
    "        fc7_features_story = []\n",
    "        fc8_features_story = []\n",
    "        \n",
    "        for img_filename in story:\n",
    "            tokens = img_filename.split(\"/\")\n",
    "            class_name = tokens[-2]\n",
    "            img_name = tokens[-1] \n",
    "            \n",
    "            fc7 = caltech_features[class_name][img_name][\"fc7\"]\n",
    "            fc8 = caltech_features[class_name][img_name][\"fc8\"]\n",
    "            \n",
    "            fc7_features_story.append(fc7) \n",
    "            fc8_features_story.append(fc8)\n",
    "        \n",
    "        features[\"fc7_features\"].append(fc7_features_story) \n",
    "        features[\"fc8_features\"].append(fc8_features_story)\n",
    "\n",
    "print(\"Loaded fc7 and fc8 features\")"
   ]
  },
  {
   "cell_type": "code",
   "execution_count": 6,
   "metadata": {
    "collapsed": false
   },
   "outputs": [
    {
     "data": {
      "text/plain": [
       "dict_keys(['validation', 'training', 'test'])"
      ]
     },
     "execution_count": 6,
     "metadata": {},
     "output_type": "execute_result"
    }
   ],
   "source": [
    "caltech_data.keys()"
   ]
  },
  {
   "cell_type": "code",
   "execution_count": 7,
   "metadata": {
    "collapsed": false
   },
   "outputs": [
    {
     "data": {
      "text/plain": [
       "dict_keys(['labels', 'features'])"
      ]
     },
     "execution_count": 7,
     "metadata": {},
     "output_type": "execute_result"
    }
   ],
   "source": [
    "caltech_data['training'].keys()"
   ]
  },
  {
   "cell_type": "code",
   "execution_count": 8,
   "metadata": {
    "collapsed": false
   },
   "outputs": [
    {
     "data": {
      "text/plain": [
       "dict_keys(['fc8_features', 'filenames', 'fc7_features'])"
      ]
     },
     "execution_count": 8,
     "metadata": {},
     "output_type": "execute_result"
    }
   ],
   "source": [
    "caltech_data['training']['features'].keys()"
   ]
  },
  {
   "cell_type": "code",
   "execution_count": 9,
   "metadata": {
    "collapsed": false
   },
   "outputs": [
    {
     "data": {
      "text/plain": [
       "5"
      ]
     },
     "execution_count": 9,
     "metadata": {},
     "output_type": "execute_result"
    }
   ],
   "source": [
    "len(caltech_data['test']['features']['fc8_features'][0])"
   ]
  },
  {
   "cell_type": "markdown",
   "metadata": {},
   "source": [
    "# LSTM"
   ]
  },
  {
   "cell_type": "code",
   "execution_count": 10,
   "metadata": {
    "collapsed": false
   },
   "outputs": [],
   "source": [
    "def get_batch(iterable, n=1):\n",
    "    \"\"\"\n",
    "    Yields an iteratable\n",
    "    \"\"\"\n",
    "    l = len(iterable)\n",
    "    for ndx in range(0, l, n):\n",
    "        yield iterable[ndx:min(ndx + n, l)]\n",
    "        \n",
    "\n",
    "def create_batches(data, batch_size = 100):\n",
    "    \n",
    "    batches = list()\n",
    "    for batch in get_batch(data, batch_size):\n",
    "        batches.append(batch)\n",
    "    \n",
    "    return batches"
   ]
  },
  {
   "cell_type": "code",
   "execution_count": 11,
   "metadata": {
    "collapsed": true
   },
   "outputs": [],
   "source": [
    "# Parameters\n",
    "learning_rate = 0.001\n",
    "training_iters = 100000\n",
    "batch_size = 100\n",
    "# display_step = 10\n",
    "\n",
    "# Network Parameters\n",
    "n_input = 1000 # MNIST data input (img shape: vector 1000)\n",
    "n_steps = 5 # timesteps\n",
    "n_hidden = 128 # hidden layer num of features\n",
    "n_classes = 2  # true false\n",
    "\n",
    "# tf Graph input\n",
    "x = tf.placeholder(\"float\", [None, n_steps, n_input])\n",
    "y = tf.placeholder(\"float\", [None, n_classes])\n",
    "\n",
    "# Define weights\n",
    "weights = {\n",
    "    'out': tf.Variable(tf.random_normal([n_hidden, n_classes]))\n",
    "}\n",
    "biases = {\n",
    "    'out': tf.Variable(tf.random_normal([n_classes]))\n",
    "}"
   ]
  },
  {
   "cell_type": "code",
   "execution_count": 12,
   "metadata": {
    "collapsed": true
   },
   "outputs": [],
   "source": [
    "def RNN(x, weights, biases):\n",
    "\n",
    "    # Prepare data shape to match `rnn` function requirements\n",
    "    # Current data input shape: (batch_size, n_steps, n_input)\n",
    "    # Required shape: 'n_steps' tensors list of shape (batch_size, n_input)\n",
    "    \n",
    "    # Unstack to get a list of 'n_steps' tensors of shape (batch_size, n_input)\n",
    "    x = tf.unstack(x, n_steps, 1)\n",
    "\n",
    "    # Define a lstm cell with tensorflow\n",
    "    lstm_cell = rnn.BasicLSTMCell(n_hidden, forget_bias=1.0)\n",
    "\n",
    "    # Get lstm cell output\n",
    "    outputs, states = rnn.static_rnn(lstm_cell, x, dtype=tf.float32)\n",
    "\n",
    "    # Linear activation, using rnn inner loop last output\n",
    "    return tf.matmul(outputs[-1], weights['out']) + biases['out']\n",
    "\n",
    "pred = RNN(x, weights, biases)\n",
    "\n",
    "# Define loss and optimizer\n",
    "cost = tf.reduce_mean(tf.nn.softmax_cross_entropy_with_logits(logits=pred, labels=y))\n",
    "optimizer = tf.train.AdamOptimizer(learning_rate=learning_rate).minimize(cost)\n",
    "\n",
    "# Evaluate model\n",
    "correct_pred = tf.equal(tf.argmax(pred,1), tf.argmax(y,1))\n",
    "accuracy = tf.reduce_mean(tf.cast(correct_pred, tf.float32))\n",
    "\n",
    "# Initializing the variables\n",
    "init = tf.global_variables_initializer()"
   ]
  },
  {
   "cell_type": "code",
   "execution_count": 13,
   "metadata": {
    "collapsed": false
   },
   "outputs": [
    {
     "name": "stdout",
     "output_type": "stream",
     "text": [
      "Start\n",
      "Batch  0\n"
     ]
    },
    {
     "ename": "TypeError",
     "evalue": "unhashable type: 'list'",
     "output_type": "error",
     "traceback": [
      "\u001b[1;31m---------------------------------------------------------------------------\u001b[0m",
      "\u001b[1;31mTypeError\u001b[0m                                 Traceback (most recent call last)",
      "\u001b[1;32m<ipython-input-13-37196ed51a55>\u001b[0m in \u001b[0;36m<module>\u001b[1;34m()\u001b[0m\n\u001b[0;32m     46\u001b[0m             \u001b[1;31m#\u001b[0m\u001b[1;33m\u001b[0m\u001b[1;33m\u001b[0m\u001b[0m\n\u001b[0;32m     47\u001b[0m \u001b[1;33m\u001b[0m\u001b[0m\n\u001b[1;32m---> 48\u001b[1;33m             \u001b[0msess\u001b[0m\u001b[1;33m.\u001b[0m\u001b[0mrun\u001b[0m\u001b[1;33m(\u001b[0m\u001b[0moptimizer\u001b[0m\u001b[1;33m,\u001b[0m \u001b[0mfeed_dict\u001b[0m\u001b[1;33m=\u001b[0m\u001b[1;33m{\u001b[0m\u001b[0mx\u001b[0m\u001b[1;33m:\u001b[0m \u001b[0mbatch_x\u001b[0m\u001b[1;33m,\u001b[0m \u001b[0my\u001b[0m\u001b[1;33m:\u001b[0m \u001b[0mbatch_y\u001b[0m\u001b[1;33m}\u001b[0m\u001b[1;33m)\u001b[0m\u001b[1;33m\u001b[0m\u001b[0m\n\u001b[0m\u001b[0;32m     49\u001b[0m             \u001b[1;31m# Calculate batch accuracy\u001b[0m\u001b[1;33m\u001b[0m\u001b[1;33m\u001b[0m\u001b[0m\n\u001b[0;32m     50\u001b[0m             \u001b[0macc\u001b[0m \u001b[1;33m=\u001b[0m \u001b[0msess\u001b[0m\u001b[1;33m.\u001b[0m\u001b[0mrun\u001b[0m\u001b[1;33m(\u001b[0m\u001b[0maccuracy\u001b[0m\u001b[1;33m,\u001b[0m \u001b[0mfeed_dict\u001b[0m\u001b[1;33m=\u001b[0m\u001b[1;33m{\u001b[0m\u001b[0mx\u001b[0m\u001b[1;33m:\u001b[0m \u001b[0mbatch_x\u001b[0m\u001b[1;33m,\u001b[0m \u001b[0my\u001b[0m\u001b[1;33m:\u001b[0m \u001b[0mbatch_y\u001b[0m\u001b[1;33m}\u001b[0m\u001b[1;33m)\u001b[0m\u001b[1;33m\u001b[0m\u001b[0m\n",
      "\u001b[1;31mTypeError\u001b[0m: unhashable type: 'list'"
     ]
    }
   ],
   "source": [
    "# Launch the graph\n",
    "with tf.Session() as sess:\n",
    "    \n",
    "    # create batches for data and labels \n",
    "    x = caltech_data['test']['features']['fc8_features']\n",
    "    y = caltech_data['test']['labels']\n",
    "    batches_x = create_batches(x, 100)\n",
    "    batches_y = create_batches(y, 100)\n",
    "\n",
    "    num_of_batches = np.shape(batches_x)[0]\n",
    "    \n",
    "    sess.run(init)\n",
    "    step = 1\n",
    "    epochs = 2\n",
    "    print(\"Start\")\n",
    "    # Keep training until reach max iterations\n",
    "    while step  < epochs:\n",
    "        \n",
    "        for i in range(num_of_batches):\n",
    "            print(\"Batch \", i)\n",
    "            # transform x\n",
    "            # init matrix of zeros\n",
    "            batch_x = np.zeros((100, 5000))\n",
    "            r = 0\n",
    "            for story_imgs in batches_x[0]:\n",
    "                # initialize empty vector\n",
    "                row = np.empty(0)\n",
    "                for img_features in story_imgs:\n",
    "                    row = np.append(row, img_features)\n",
    "\n",
    "                batch_x[r, :] = row\n",
    "                r = r + 1\n",
    "            #\n",
    "            \n",
    "            # labels to one hot representation\n",
    "            # init matrix of zeros\n",
    "            batch_y = np.zeros((100, 2))\n",
    "            r = 0\n",
    "            for label in batches_y[0]:\n",
    "                if label == 0:\n",
    "                    batch_y[r, :] = np.array([1,0])\n",
    "                else:\n",
    "                    batch_y[r, :] = np.array([0,1])\n",
    "\n",
    "                r = r + 1\n",
    "            #\n",
    "            \n",
    "            sess.run(optimizer, feed_dict={x: batch_x, y: batch_y})\n",
    "            # Calculate batch accuracy\n",
    "            acc = sess.run(accuracy, feed_dict={x: batch_x, y: batch_y})\n",
    "            # Calculate batch loss\n",
    "            loss = sess.run(cost, feed_dict={x: batch_x, y: batch_y})\n",
    "            print (\"Iter \" + str(step*batch_size) + \", Minibatch Loss= \" + \\\n",
    "                  \"{:.6f}\".format(loss) + \", Training Accuracy= \" + \\\n",
    "                  \"{:.5f}\".format(acc))\n",
    "            step += 1\n",
    "        print (\"Optimization Finished!\")\n",
    "\n",
    "#     # Calculate accuracy for 128 mnist test images\n",
    "#     test_len = 128\n",
    "#     test_data = mnist.test.images[:test_len].reshape((-1, n_steps, n_input))\n",
    "#     test_label = mnist.test.labels[:test_len]\n",
    "#     print (\"Testing Accuracy:\", \\\n",
    "#         sess.run(accuracy, feed_dict={x: test_data, y: test_label})"
   ]
  },
  {
   "cell_type": "code",
   "execution_count": 18,
   "metadata": {
    "collapsed": false
   },
   "outputs": [
    {
     "data": {
      "text/plain": [
       "numpy.float64"
      ]
     },
     "execution_count": 18,
     "metadata": {},
     "output_type": "execute_result"
    }
   ],
   "source": [
    "type(batch_x[0][1])"
   ]
  },
  {
   "cell_type": "code",
   "execution_count": 5,
   "metadata": {
    "collapsed": false
   },
   "outputs": [
    {
     "name": "stdout",
     "output_type": "stream",
     "text": [
      "Iter 1280, Minibatch Loss= 1.938751, Training Accuracy= 0.32031\n",
      "Iter 2560, Minibatch Loss= 1.539190, Training Accuracy= 0.47656\n",
      "Iter 3840, Minibatch Loss= 1.279017, Training Accuracy= 0.61719\n",
      "Iter 5120, Minibatch Loss= 1.198248, Training Accuracy= 0.58594\n",
      "Iter 6400, Minibatch Loss= 0.941516, Training Accuracy= 0.71094\n",
      "Iter 7680, Minibatch Loss= 0.715814, Training Accuracy= 0.75781\n",
      "Iter 8960, Minibatch Loss= 0.527712, Training Accuracy= 0.85938\n",
      "Iter 10240, Minibatch Loss= 0.462727, Training Accuracy= 0.85156\n",
      "Iter 11520, Minibatch Loss= 0.492773, Training Accuracy= 0.84375\n",
      "Iter 12800, Minibatch Loss= 0.425529, Training Accuracy= 0.84375\n",
      "Iter 14080, Minibatch Loss= 0.402597, Training Accuracy= 0.88281\n",
      "Iter 15360, Minibatch Loss= 0.635651, Training Accuracy= 0.78125\n",
      "Iter 16640, Minibatch Loss= 0.342599, Training Accuracy= 0.89062\n",
      "Iter 17920, Minibatch Loss= 0.377497, Training Accuracy= 0.84375\n",
      "Iter 19200, Minibatch Loss= 0.350818, Training Accuracy= 0.85938\n",
      "Iter 20480, Minibatch Loss= 0.299029, Training Accuracy= 0.91406\n",
      "Iter 21760, Minibatch Loss= 0.333785, Training Accuracy= 0.89062\n",
      "Iter 23040, Minibatch Loss= 0.198441, Training Accuracy= 0.94531\n",
      "Iter 24320, Minibatch Loss= 0.400860, Training Accuracy= 0.84375\n",
      "Iter 25600, Minibatch Loss= 0.328430, Training Accuracy= 0.91406\n",
      "Iter 26880, Minibatch Loss= 0.331302, Training Accuracy= 0.90625\n",
      "Iter 28160, Minibatch Loss= 0.217013, Training Accuracy= 0.93750\n",
      "Iter 29440, Minibatch Loss= 0.327517, Training Accuracy= 0.89844\n",
      "Iter 30720, Minibatch Loss= 0.287576, Training Accuracy= 0.92969\n",
      "Iter 32000, Minibatch Loss= 0.123637, Training Accuracy= 0.95312\n",
      "Iter 33280, Minibatch Loss= 0.195327, Training Accuracy= 0.95312\n",
      "Iter 34560, Minibatch Loss= 0.071383, Training Accuracy= 0.97656\n",
      "Iter 35840, Minibatch Loss= 0.302464, Training Accuracy= 0.89844\n",
      "Iter 37120, Minibatch Loss= 0.217301, Training Accuracy= 0.90625\n",
      "Iter 38400, Minibatch Loss= 0.185285, Training Accuracy= 0.92188\n",
      "Iter 39680, Minibatch Loss= 0.130913, Training Accuracy= 0.96094\n",
      "Iter 40960, Minibatch Loss= 0.227351, Training Accuracy= 0.93750\n",
      "Iter 42240, Minibatch Loss= 0.094401, Training Accuracy= 0.96875\n",
      "Iter 43520, Minibatch Loss= 0.093969, Training Accuracy= 0.97656\n",
      "Iter 44800, Minibatch Loss= 0.213013, Training Accuracy= 0.94531\n",
      "Iter 46080, Minibatch Loss= 0.233550, Training Accuracy= 0.92188\n",
      "Iter 47360, Minibatch Loss= 0.132095, Training Accuracy= 0.95312\n",
      "Iter 48640, Minibatch Loss= 0.149626, Training Accuracy= 0.96875\n",
      "Iter 49920, Minibatch Loss= 0.144960, Training Accuracy= 0.93750\n",
      "Iter 51200, Minibatch Loss= 0.112778, Training Accuracy= 0.97656\n",
      "Iter 52480, Minibatch Loss= 0.306634, Training Accuracy= 0.92969\n",
      "Iter 53760, Minibatch Loss= 0.138410, Training Accuracy= 0.96094\n",
      "Iter 55040, Minibatch Loss= 0.090523, Training Accuracy= 0.98438\n",
      "Iter 56320, Minibatch Loss= 0.089456, Training Accuracy= 0.96875\n",
      "Iter 57600, Minibatch Loss= 0.238669, Training Accuracy= 0.90625\n",
      "Iter 58880, Minibatch Loss= 0.079343, Training Accuracy= 0.98438\n",
      "Iter 60160, Minibatch Loss= 0.077097, Training Accuracy= 0.97656\n",
      "Iter 61440, Minibatch Loss= 0.290055, Training Accuracy= 0.90625\n",
      "Iter 62720, Minibatch Loss= 0.108842, Training Accuracy= 0.96094\n",
      "Iter 64000, Minibatch Loss= 0.083155, Training Accuracy= 0.97656\n",
      "Iter 65280, Minibatch Loss= 0.272316, Training Accuracy= 0.91406\n",
      "Iter 66560, Minibatch Loss= 0.101691, Training Accuracy= 0.96094\n",
      "Iter 67840, Minibatch Loss= 0.110672, Training Accuracy= 0.96094\n",
      "Iter 69120, Minibatch Loss= 0.088496, Training Accuracy= 0.98438\n",
      "Iter 70400, Minibatch Loss= 0.132092, Training Accuracy= 0.96875\n",
      "Iter 71680, Minibatch Loss= 0.156019, Training Accuracy= 0.95312\n",
      "Iter 72960, Minibatch Loss= 0.184547, Training Accuracy= 0.93750\n",
      "Iter 74240, Minibatch Loss= 0.103021, Training Accuracy= 0.96875\n",
      "Iter 75520, Minibatch Loss= 0.063197, Training Accuracy= 0.98438\n",
      "Iter 76800, Minibatch Loss= 0.072530, Training Accuracy= 0.96875\n",
      "Iter 78080, Minibatch Loss= 0.075161, Training Accuracy= 0.96875\n",
      "Iter 79360, Minibatch Loss= 0.144357, Training Accuracy= 0.95312\n",
      "Iter 80640, Minibatch Loss= 0.078908, Training Accuracy= 0.96875\n",
      "Iter 81920, Minibatch Loss= 0.109575, Training Accuracy= 0.96875\n",
      "Iter 83200, Minibatch Loss= 0.110254, Training Accuracy= 0.95312\n",
      "Iter 84480, Minibatch Loss= 0.111535, Training Accuracy= 0.96875\n",
      "Iter 85760, Minibatch Loss= 0.145866, Training Accuracy= 0.93750\n",
      "Iter 87040, Minibatch Loss= 0.252437, Training Accuracy= 0.92188\n",
      "Iter 88320, Minibatch Loss= 0.077910, Training Accuracy= 0.96094\n",
      "Iter 89600, Minibatch Loss= 0.095814, Training Accuracy= 0.97656\n",
      "Iter 90880, Minibatch Loss= 0.084544, Training Accuracy= 0.97656\n",
      "Iter 92160, Minibatch Loss= 0.162918, Training Accuracy= 0.95312\n",
      "Iter 93440, Minibatch Loss= 0.103928, Training Accuracy= 0.96094\n",
      "Iter 94720, Minibatch Loss= 0.143697, Training Accuracy= 0.95312\n",
      "Iter 96000, Minibatch Loss= 0.085491, Training Accuracy= 0.96875\n",
      "Iter 97280, Minibatch Loss= 0.041493, Training Accuracy= 1.00000\n",
      "Iter 98560, Minibatch Loss= 0.078398, Training Accuracy= 0.96875\n",
      "Iter 99840, Minibatch Loss= 0.139900, Training Accuracy= 0.97656\n",
      "Optimization Finished!\n",
      "Testing Accuracy: 0.992188\n"
     ]
    }
   ],
   "source": [
    "# Launch the graph\n",
    "with tf.Session() as sess:\n",
    "    sess.run(init)\n",
    "    step = 1\n",
    "    # Keep training until reach max iterations\n",
    "    while step * batch_size < training_iters:\n",
    "        batch_x, batch_y = mnist.train.next_batch(batch_size)\n",
    "        # Reshape data to get 28 seq of 28 elements\n",
    "        batch_x = batch_x.reshape((batch_size, n_steps, n_input))\n",
    "        # Run optimization op (backprop)\n",
    "        sess.run(optimizer, feed_dict={x: batch_x, y: batch_y})\n",
    "        if step % display_step == 0:\n",
    "            # Calculate batch accuracy\n",
    "            acc = sess.run(accuracy, feed_dict={x: batch_x, y: batch_y})\n",
    "            # Calculate batch loss\n",
    "            loss = sess.run(cost, feed_dict={x: batch_x, y: batch_y})\n",
    "            print (\"Iter \" + str(step*batch_size) + \", Minibatch Loss= \" + \\\n",
    "                  \"{:.6f}\".format(loss) + \", Training Accuracy= \" + \\\n",
    "                  \"{:.5f}\".format(acc))\n",
    "        step += 1\n",
    "    print (\"Optimization Finished!\")\n",
    "\n",
    "    # Calculate accuracy for 128 mnist test images\n",
    "    test_len = 128\n",
    "    test_data = mnist.test.images[:test_len].reshape((-1, n_steps, n_input))\n",
    "    test_label = mnist.test.labels[:test_len]\n",
    "    print (\"Testing Accuracy:\", \\\n",
    "        sess.run(accuracy, feed_dict={x: test_data, y: test_label}))"
   ]
  },
  {
   "cell_type": "code",
   "execution_count": null,
   "metadata": {
    "collapsed": true
   },
   "outputs": [],
   "source": []
  }
 ],
 "metadata": {
  "anaconda-cloud": {},
  "kernelspec": {
   "display_name": "Python [conda env:py35]",
   "language": "python",
   "name": "conda-env-py35-py"
  },
  "language_info": {
   "codemirror_mode": {
    "name": "ipython",
    "version": 3
   },
   "file_extension": ".py",
   "mimetype": "text/x-python",
   "name": "python",
   "nbconvert_exporter": "python",
   "pygments_lexer": "ipython3",
   "version": "3.5.3"
  }
 },
 "nbformat": 4,
 "nbformat_minor": 1
}
