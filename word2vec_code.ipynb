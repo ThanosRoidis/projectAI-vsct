{
 "cells": [
  {
   "cell_type": "code",
   "execution_count": 1,
   "metadata": {
    "collapsed": false
   },
   "outputs": [
    {
     "name": "stderr",
     "output_type": "stream",
     "text": [
      "C:\\Users\\gnsid\\Anaconda2\\envs\\py35\\lib\\site-packages\\gensim\\utils.py:860: UserWarning: detected Windows; aliasing chunkize to chunkize_serial\n",
      "  warnings.warn(\"detected Windows; aliasing chunkize to chunkize_serial\")\n"
     ]
    }
   ],
   "source": [
    "import gensim\n",
    "import numpy as np"
   ]
  },
  {
   "cell_type": "code",
   "execution_count": 56,
   "metadata": {
    "collapsed": false
   },
   "outputs": [],
   "source": [
    "def multiple_terms_to_vec(caption, model):\n",
    "    \"\"\"\"\n",
    "    Builds a uniform representation for the terms of a caption\n",
    "    by summing the corresponding word vectors.\n",
    "    \"\"\"\n",
    "    \n",
    "    # split caption in terms\n",
    "    terms = caption.split()\n",
    "    \n",
    "    # sum of the vectors of each term\n",
    "    sum_of_vecs = np.zeros(300)\n",
    "\n",
    "    # counter for words that have wordvector\n",
    "    length = 0\n",
    "    \n",
    "    # sum the corresponding word vectors that are available \n",
    "    for term in terms:\n",
    "        if term in model:\n",
    "            sum_of_vecs += + model[term]\n",
    "            length += 1\n",
    "    \n",
    "    if length == 0:\n",
    "        length = 1\n",
    "\n",
    "    return (sum_of_vecs/length)"
   ]
  },
  {
   "cell_type": "code",
   "execution_count": 3,
   "metadata": {
    "collapsed": false
   },
   "outputs": [],
   "source": [
    "# Load Google's pre-trained Word2Vec model.\n",
    "w2v_model = gensim.models.KeyedVectors.load_word2vec_format('D:\\gnsid\\Documents\\MSc\\projectAI\\Google_model\\GoogleNews-vectors-negative300.bin', binary=True)  "
   ]
  },
  {
   "cell_type": "code",
   "execution_count": 57,
   "metadata": {
    "collapsed": false
   },
   "outputs": [],
   "source": [
    "caption = 'Dog and cat'\n",
    "vec_c = multiple_terms_to_vec(caption, w2v_model)"
   ]
  },
  {
   "cell_type": "code",
   "execution_count": 58,
   "metadata": {
    "collapsed": false
   },
   "outputs": [
    {
     "data": {
      "text/plain": [
       "array([-0.11688232,  0.10205695, -0.22900391,  0.22851562,  0.05090332,\n",
       "        0.04556274, -0.04882812,  0.05334473,  0.16894531, -0.16308594,\n",
       "        0.09521484, -0.30255127,  0.01052856, -0.18701172, -0.02609253,\n",
       "       -0.00830078, -0.1114502 ,  0.13964844, -0.44433594, -0.09320068,\n",
       "        0.18457031, -0.11401367,  0.1194458 , -0.11352539, -0.18920898,\n",
       "        0.24316406, -0.18139648,  0.31054688,  0.37597656,  0.00268555,\n",
       "       -0.1340332 , -0.09527588, -0.07312012, -0.18066406, -0.11865234,\n",
       "        0.08947754, -0.00862885,  0.11083984,  0.07043457,  0.23632812,\n",
       "        0.03323364, -0.21826172, -0.06640625,  0.03479004, -0.10925293,\n",
       "       -0.17407227,  0.09069824, -0.02130127,  0.02026367,  0.09460449,\n",
       "       -0.32128906,  0.17749023,  0.35742188,  0.04125977,  0.13842773,\n",
       "        0.00732422,  0.23876953, -0.31835938,  0.32910156,  0.02746582,\n",
       "        0.19921875,  0.13745117,  0.0090332 ,  0.06103516,  0.13305664,\n",
       "       -0.16625977, -0.00268555,  0.07849121, -0.24169922, -0.06018066,\n",
       "        0.34570312, -0.06420898, -0.1730957 , -0.0427475 , -0.14538574,\n",
       "        0.01318359,  0.16308594, -0.04150391,  0.1133194 , -0.16906738,\n",
       "       -0.01696777, -0.16790771,  0.1496582 , -0.26904297, -0.25097656,\n",
       "       -0.26586914, -0.24804688,  0.06604004, -0.0065918 , -0.21313477,\n",
       "       -0.1953125 , -0.0255127 ,  0.06030273, -0.12866211, -0.17773438,\n",
       "       -0.14611816,  0.11889648, -0.06286621, -0.13873291, -0.25683594,\n",
       "       -0.1472168 , -0.09204102,  0.05580139,  0.1796875 ,  0.08813477,\n",
       "       -0.18359375,  0.10449219, -0.13067627,  0.00268555, -0.08758545,\n",
       "        0.03857422,  0.16259766,  0.22216797,  0.14038086,  0.03710938,\n",
       "       -0.06542969,  0.02355957, -0.29736328, -0.27783203, -0.07092285,\n",
       "        0.0090332 , -0.04406738, -0.33691406, -0.11279297, -0.1651001 ,\n",
       "        0.16430664, -0.1130867 , -0.07592773,  0.07330322, -0.20019531,\n",
       "        0.03015137, -0.04309082, -0.23242188,  0.0402832 , -0.28173828,\n",
       "       -0.07983398,  0.0993042 , -0.03051758,  0.11450195,  0.12084961,\n",
       "        0.14282227,  0.06829834, -0.13043213,  0.15618896,  0.09484863,\n",
       "        0.08929443, -0.13973618,  0.14257812, -0.12597656, -0.20898438,\n",
       "        0.32617188,  0.01098633, -0.21130371, -0.00769043, -0.19580078,\n",
       "       -0.14013672,  0.18371582, -0.02355957, -0.18334961,  0.06896973,\n",
       "        0.06201172, -0.08905029,  0.13061523, -0.09716797, -0.12719727,\n",
       "       -0.14990234,  0.04101562,  0.09887695,  0.06780624,  0.04931641,\n",
       "        0.02246094, -0.07568359,  0.11108398,  0.04296875, -0.17675781,\n",
       "        0.1875    ,  0.07739258, -0.09197998, -0.38183594,  0.10147095,\n",
       "       -0.05358887, -0.04614258, -0.01904297,  0.05786133, -0.06225586,\n",
       "        0.08483887,  0.23876953,  0.28027344,  0.16064453,  0.11401367,\n",
       "        0.0178833 ,  0.02441406,  0.10717773,  0.10498047,  0.0423584 ,\n",
       "        0.18920898,  0.00305176, -0.31347656, -0.20166016,  0.15087891,\n",
       "       -0.01867676, -0.19580078, -0.04333496,  0.07531738,  0.1020813 ,\n",
       "       -0.02990723, -0.0612793 , -0.01953125, -0.01708984, -0.14001465,\n",
       "       -0.45214844, -0.03295898, -0.04296875,  0.05847168, -0.14794922,\n",
       "        0.13256836,  0.20166016, -0.23046875, -0.1574707 , -0.14416504,\n",
       "        0.08618164,  0.15966797, -0.13037109, -0.13452148, -0.10546875,\n",
       "       -0.13574219,  0.11694336, -0.01689911,  0.22021484, -0.14135742,\n",
       "        0.11914062,  0.06066895, -0.07006836,  0.16485596, -0.21386719,\n",
       "        0.13598633,  0.35839844,  0.09844971,  0.03713989,  0.07800293,\n",
       "        0.18106079, -0.25097656,  0.01550293, -0.1008606 ,  0.30957031,\n",
       "        0.05743408,  0.01776123,  0.16723633,  0.09063721, -0.07559204,\n",
       "       -0.36328125,  0.1484375 , -0.2890625 ,  0.15625   , -0.03218079,\n",
       "        0.28222656, -0.18603516,  0.02966309, -0.1953125 ,  0.00143433,\n",
       "       -0.16625977,  0.08395386, -0.01708984, -0.00634766,  0.13476562,\n",
       "        0.09191895, -0.26611328, -0.07327271, -0.16992188,  0.06494141,\n",
       "       -0.14892578,  0.15527344, -0.13037109,  0.19873047,  0.22827148,\n",
       "       -0.01306152, -0.07849121,  0.04638672,  0.10302734, -0.03771973,\n",
       "        0.24560547, -0.09246826, -0.02001953,  0.22070312,  0.01367188,\n",
       "       -0.02099609, -0.08398438, -0.00108337,  0.03215027,  0.21826172,\n",
       "       -0.08312988,  0.06347656, -0.19140625,  0.10632324,  0.26953125,\n",
       "       -0.11657715,  0.06091309,  0.34619141, -0.30761719,  0.09594727])"
      ]
     },
     "execution_count": 58,
     "metadata": {},
     "output_type": "execute_result"
    }
   ],
   "source": [
    "vec_c"
   ]
  },
  {
   "cell_type": "code",
   "execution_count": 54,
   "metadata": {
    "collapsed": false
   },
   "outputs": [
    {
     "ename": "KeyError",
     "evalue": "\"word 'and' not in vocabulary\"",
     "output_type": "error",
     "traceback": [
      "\u001b[1;31m---------------------------------------------------------------------------\u001b[0m",
      "\u001b[1;31mKeyError\u001b[0m                                  Traceback (most recent call last)",
      "\u001b[1;32m<ipython-input-54-02406f83d369>\u001b[0m in \u001b[0;36m<module>\u001b[1;34m()\u001b[0m\n\u001b[1;32m----> 1\u001b[1;33m \u001b[0mw2v_model\u001b[0m\u001b[1;33m[\u001b[0m\u001b[1;34m'and'\u001b[0m\u001b[1;33m]\u001b[0m\u001b[1;33m\u001b[0m\u001b[0m\n\u001b[0m",
      "\u001b[1;32mC:\\Users\\gnsid\\Anaconda2\\envs\\py35\\lib\\site-packages\\gensim\\models\\keyedvectors.py\u001b[0m in \u001b[0;36m__getitem__\u001b[1;34m(self, words)\u001b[0m\n\u001b[0;32m    578\u001b[0m         \u001b[1;32mif\u001b[0m \u001b[0misinstance\u001b[0m\u001b[1;33m(\u001b[0m\u001b[0mwords\u001b[0m\u001b[1;33m,\u001b[0m \u001b[0mstring_types\u001b[0m\u001b[1;33m)\u001b[0m\u001b[1;33m:\u001b[0m\u001b[1;33m\u001b[0m\u001b[0m\n\u001b[0;32m    579\u001b[0m             \u001b[1;31m# allow calls like trained_model['office'], as a shorthand for trained_model[['office']]\u001b[0m\u001b[1;33m\u001b[0m\u001b[1;33m\u001b[0m\u001b[0m\n\u001b[1;32m--> 580\u001b[1;33m             \u001b[1;32mreturn\u001b[0m \u001b[0mself\u001b[0m\u001b[1;33m.\u001b[0m\u001b[0mword_vec\u001b[0m\u001b[1;33m(\u001b[0m\u001b[0mwords\u001b[0m\u001b[1;33m)\u001b[0m\u001b[1;33m\u001b[0m\u001b[0m\n\u001b[0m\u001b[0;32m    581\u001b[0m \u001b[1;33m\u001b[0m\u001b[0m\n\u001b[0;32m    582\u001b[0m         \u001b[1;32mreturn\u001b[0m \u001b[0mvstack\u001b[0m\u001b[1;33m(\u001b[0m\u001b[1;33m[\u001b[0m\u001b[0mself\u001b[0m\u001b[1;33m.\u001b[0m\u001b[0mword_vec\u001b[0m\u001b[1;33m(\u001b[0m\u001b[0mword\u001b[0m\u001b[1;33m)\u001b[0m \u001b[1;32mfor\u001b[0m \u001b[0mword\u001b[0m \u001b[1;32min\u001b[0m \u001b[0mwords\u001b[0m\u001b[1;33m]\u001b[0m\u001b[1;33m)\u001b[0m\u001b[1;33m\u001b[0m\u001b[0m\n",
      "\u001b[1;32mC:\\Users\\gnsid\\Anaconda2\\envs\\py35\\lib\\site-packages\\gensim\\models\\keyedvectors.py\u001b[0m in \u001b[0;36mword_vec\u001b[1;34m(self, word, use_norm)\u001b[0m\n\u001b[0;32m    277\u001b[0m                 \u001b[1;32mreturn\u001b[0m \u001b[0mself\u001b[0m\u001b[1;33m.\u001b[0m\u001b[0msyn0\u001b[0m\u001b[1;33m[\u001b[0m\u001b[0mself\u001b[0m\u001b[1;33m.\u001b[0m\u001b[0mvocab\u001b[0m\u001b[1;33m[\u001b[0m\u001b[0mword\u001b[0m\u001b[1;33m]\u001b[0m\u001b[1;33m.\u001b[0m\u001b[0mindex\u001b[0m\u001b[1;33m]\u001b[0m\u001b[1;33m\u001b[0m\u001b[0m\n\u001b[0;32m    278\u001b[0m         \u001b[1;32melse\u001b[0m\u001b[1;33m:\u001b[0m\u001b[1;33m\u001b[0m\u001b[0m\n\u001b[1;32m--> 279\u001b[1;33m             \u001b[1;32mraise\u001b[0m \u001b[0mKeyError\u001b[0m\u001b[1;33m(\u001b[0m\u001b[1;34m\"word '%s' not in vocabulary\"\u001b[0m \u001b[1;33m%\u001b[0m \u001b[0mword\u001b[0m\u001b[1;33m)\u001b[0m\u001b[1;33m\u001b[0m\u001b[0m\n\u001b[0m\u001b[0;32m    280\u001b[0m \u001b[1;33m\u001b[0m\u001b[0m\n\u001b[0;32m    281\u001b[0m     \u001b[1;32mdef\u001b[0m \u001b[0mmost_similar\u001b[0m\u001b[1;33m(\u001b[0m\u001b[0mself\u001b[0m\u001b[1;33m,\u001b[0m \u001b[0mpositive\u001b[0m\u001b[1;33m=\u001b[0m\u001b[1;33m[\u001b[0m\u001b[1;33m]\u001b[0m\u001b[1;33m,\u001b[0m \u001b[0mnegative\u001b[0m\u001b[1;33m=\u001b[0m\u001b[1;33m[\u001b[0m\u001b[1;33m]\u001b[0m\u001b[1;33m,\u001b[0m \u001b[0mtopn\u001b[0m\u001b[1;33m=\u001b[0m\u001b[1;36m10\u001b[0m\u001b[1;33m,\u001b[0m \u001b[0mrestrict_vocab\u001b[0m\u001b[1;33m=\u001b[0m\u001b[1;32mNone\u001b[0m\u001b[1;33m,\u001b[0m \u001b[0mindexer\u001b[0m\u001b[1;33m=\u001b[0m\u001b[1;32mNone\u001b[0m\u001b[1;33m)\u001b[0m\u001b[1;33m:\u001b[0m\u001b[1;33m\u001b[0m\u001b[0m\n",
      "\u001b[1;31mKeyError\u001b[0m: \"word 'and' not in vocabulary\""
     ]
    }
   ],
   "source": [
    "# the following words are missing a vector representation\n",
    "w2v_model['and']\n",
    "w2v_model['a']"
   ]
  },
  {
   "cell_type": "code",
   "execution_count": null,
   "metadata": {
    "collapsed": true
   },
   "outputs": [],
   "source": []
  }
 ],
 "metadata": {
  "anaconda-cloud": {},
  "kernelspec": {
   "display_name": "Python [conda env:py35]",
   "language": "python",
   "name": "conda-env-py35-py"
  },
  "language_info": {
   "codemirror_mode": {
    "name": "ipython",
    "version": 3
   },
   "file_extension": ".py",
   "mimetype": "text/x-python",
   "name": "python",
   "nbconvert_exporter": "python",
   "pygments_lexer": "ipython3",
   "version": "3.5.3"
  }
 },
 "nbformat": 4,
 "nbformat_minor": 1
}
