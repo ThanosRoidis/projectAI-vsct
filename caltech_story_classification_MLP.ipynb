{
 "cells": [
  {
   "cell_type": "code",
   "execution_count": 1,
   "metadata": {
    "collapsed": true
   },
   "outputs": [],
   "source": [
    "import json\n",
    "\n",
    "import tensorflow as tf\n",
    "\n",
    "import numpy as np\n",
    "import random\n",
    "import pickle \n",
    "import matplotlib.pyplot as plt\n",
    "from collections import Counter\n",
    "\n",
    " \n",
    "import vist\n",
    "%matplotlib inline\n",
    "plt.rcParams['figure.figsize'] = (10, 10)\n"
   ]
  },
  {
   "cell_type": "code",
   "execution_count": 2,
   "metadata": {
    "collapsed": false
   },
   "outputs": [
    {
     "name": "stdout",
     "output_type": "stream",
     "text": [
      "Labeled and segmented the dataset into training/validation/test sets\n"
     ]
    }
   ],
   "source": [
    "# with open(\"data/caltech_stories_dataset\", 'rb') as file:\n",
    "#         caltech_stories_dataset = pickle.load(file)\n",
    "        \n",
    "\n",
    "# type(caltech_stories_dataset)\n",
    "# labels = [1] * 12000\n",
    "# labels[7200:] = [0] * 4800\n",
    "\n",
    "# caltech_stories_dataset = np.array(caltech_stories_dataset)\n",
    "# labels = np.array(labels)\n",
    "\n",
    "# #shuffle and create datasets\n",
    "# indices = list(range(12000))\n",
    "# random.shuffle(indices)\n",
    "\n",
    "# labels = labels[indices]\n",
    "# caltech_stories_dataset = caltech_stories_dataset[indices]\n",
    "\n",
    "\n",
    "# train = {\"features\" : {\"filenames\" : caltech_stories_dataset[:10000,:]}, \"labels\" : labels[:10000]}\n",
    "# valid = {\"features\" : {\"filenames\" : caltech_stories_dataset[10000:11000,:]}, \"labels\" : labels[10000:11000]}\n",
    "# test = {\"features\" : {\"filenames\" : caltech_stories_dataset[11000:,:]}, \"labels\" : labels[11000:]}\n",
    "\n",
    "# caltech_data = {\"training\": train, \"validation\": valid, \"test\" : test}\n",
    "# print(\"Labeled and segmented the dataset into training/validation/test sets\")"
   ]
  },
  {
   "cell_type": "code",
   "execution_count": 27,
   "metadata": {
    "collapsed": false
   },
   "outputs": [
    {
     "name": "stdout",
     "output_type": "stream",
     "text": [
      "Labeled and segmented the dataset into training/validation/test sets\n"
     ]
    }
   ],
   "source": [
    "with open(\"data/caltech_stories_patterns\", 'rb') as file:\n",
    "        caltech_stories_dataset = pickle.load(file)\n",
    "        \n",
    "train = {\"features\" : {\"filenames\" : caltech_stories_dataset[\"data\"][\"train\"]}, \"labels\" : caltech_stories_dataset[\"labels\"][\"train\"]}\n",
    "valid = {\"features\" : {\"filenames\" : caltech_stories_dataset[\"data\"][\"validation\"]}, \"labels\" : caltech_stories_dataset[\"labels\"][\"validation\"]}\n",
    "test = {\"features\" : {\"filenames\" : caltech_stories_dataset[\"data\"][\"test\"]}, \"labels\" : caltech_stories_dataset[\"labels\"][\"test\"]}\n",
    "\n",
    "caltech_data = {\"training\": train, \"validation\": valid, \"test\" : test}\n",
    "print(\"Labeled and segmented the dataset into training/validation/test sets\")"
   ]
  },
  {
   "cell_type": "code",
   "execution_count": 28,
   "metadata": {
    "collapsed": false,
    "scrolled": true
   },
   "outputs": [
    {
     "name": "stdout",
     "output_type": "stream",
     "text": [
      "Loaded fc7 and fc8 features\n"
     ]
    }
   ],
   "source": [
    "with open(\"data/caltech_features\", 'rb') as file:\n",
    "        caltech_features = pickle.load(file)\n",
    "        \n",
    "for _set in caltech_data:\n",
    "    features = caltech_data[_set][\"features\"]\n",
    "    filenames = features[\"filenames\"]\n",
    "    features[\"fc7_features\"] = []\n",
    "    features[\"fc8_features\"] = []\n",
    "    \n",
    "    for story in filenames:\n",
    "        \n",
    "        fc7_features_story = []\n",
    "        fc8_features_story = []\n",
    "        \n",
    "        for img_filename in story:\n",
    "            tokens = img_filename.split(\"/\")\n",
    "            class_name = tokens[-2]\n",
    "            img_name = tokens[-1] \n",
    "            \n",
    "            fc7 = caltech_features[class_name][img_name][\"fc7\"]\n",
    "            fc8 = caltech_features[class_name][img_name][\"fc8\"]\n",
    "            \n",
    "            fc7_features_story.append(fc7) \n",
    "            fc8_features_story.append(fc8)\n",
    "        \n",
    "        features[\"fc7_features\"].append(fc7_features_story) \n",
    "        features[\"fc8_features\"].append(fc8_features_story)\n",
    "\n",
    "print(\"Loaded fc7 and fc8 features\")"
   ]
  },
  {
   "cell_type": "code",
   "execution_count": 29,
   "metadata": {
    "collapsed": false
   },
   "outputs": [
    {
     "name": "stdout",
     "output_type": "stream",
     "text": [
      "dict_keys(['validation', 'test', 'training'])\n",
      "dict_keys(['labels', 'features'])\n",
      "dict_keys(['filenames', 'fc8_features', 'fc7_features'])\n"
     ]
    }
   ],
   "source": [
    "print(caltech_data.keys())\n",
    "print(caltech_data['training'].keys())\n",
    "print(caltech_data['training']['features'].keys())"
   ]
  },
  {
   "cell_type": "code",
   "execution_count": 38,
   "metadata": {
    "collapsed": false
   },
   "outputs": [],
   "source": [
    "import itertools  \n",
    "\n",
    "def preprocess_data(caltech_data, set_name, features_name):\n",
    "    features = caltech_data[set_name]['features'][features_name]\n",
    "    features = [list(itertools.chain(*story_features)) for story_features in features]\n",
    "    features = np.array(features)\n",
    "    bin_label = caltech_data[set_name]['labels']\n",
    "    \n",
    "    labels = np.zeros([features.shape[0],2]) \n",
    "    labels[np.arange(features.shape[0]), np.array(bin_label).reshape(1,features.shape[0])] = 1\n",
    "    \n",
    "    return features, labels\n",
    "\n",
    "train_features, train_labels = preprocess_data(caltech_data, \"training\", \"fc8_features\")\n",
    "validation_features, validation_labels = preprocess_data(caltech_data, \"validation\", \"fc8_features\")\n",
    "test_features, test_labels = preprocess_data(caltech_data, \"test\", \"fc8_features\")"
   ]
  },
  {
   "cell_type": "code",
   "execution_count": 41,
   "metadata": {
    "collapsed": false
   },
   "outputs": [
    {
     "name": "stdout",
     "output_type": "stream",
     "text": [
      "Epoch: 0001 cost= 9669.034150391\n",
      " Train accuracy: 0.8533\n",
      " Validation accuracy: 0.858\n",
      "Epoch: 0002 cost= 3937.475621338\n",
      " Train accuracy: 0.9125\n",
      " Validation accuracy: 0.904\n",
      "Epoch: 0003 cost= 2736.971962891\n",
      " Train accuracy: 0.9366\n",
      " Validation accuracy: 0.919\n",
      "Epoch: 0004 cost= 2033.279336243\n",
      " Train accuracy: 0.9486\n",
      " Validation accuracy: 0.941\n",
      "Epoch: 0005 cost= 1648.463715210\n",
      " Train accuracy: 0.9553\n",
      " Validation accuracy: 0.936\n",
      "Epoch: 0006 cost= 1385.356647491\n",
      " Train accuracy: 0.9589\n",
      " Validation accuracy: 0.935\n",
      "Epoch: 0007 cost= 1180.105024414\n",
      " Train accuracy: 0.9674\n",
      " Validation accuracy: 0.944\n",
      "Epoch: 0008 cost= 961.712300568\n",
      " Train accuracy: 0.9703\n",
      " Validation accuracy: 0.948\n",
      "Epoch: 0009 cost= 906.258187027\n",
      " Train accuracy: 0.9744\n",
      " Validation accuracy: 0.945\n",
      "Epoch: 0010 cost= 750.358678665\n",
      " Train accuracy: 0.9779\n",
      " Validation accuracy: 0.957\n",
      "Optimization Finished!\n",
      "\n",
      "Test accuracy: 0.96\n"
     ]
    }
   ],
   "source": [
    "\n",
    "\n",
    "def get_batch(X, Y, current_batch, batch_size):\n",
    "    batch_x = X[current_batch*batch_size : (current_batch+1)*batch_size, :]\n",
    "    batch_y = Y[current_batch*batch_size : (current_batch+1)*batch_size, :] \n",
    "    return batch_x, batch_y\n",
    "\n",
    "# Parameters\n",
    "learning_rate = 0.001\n",
    "training_epochs = 10\n",
    "batch_size = 100\n",
    "display_step = 1\n",
    "\n",
    "# Network Parameters\n",
    "n_input = 5000 # MNIST data input (img shape: 28*28)\n",
    "n_hidden_1 = 512 # 1st layer number of features\n",
    "n_hidden_2 = 256 # 2nd layer number of features\n",
    "n_classes = 2 # MNIST total classes (0-9 digits)\n",
    "\n",
    "# tf Graph input\n",
    "x = tf.placeholder(\"float\", [None, n_input])\n",
    "y = tf.placeholder(\"float\", [None, n_classes])\n",
    "\n",
    "keep_prob = tf.placeholder(tf.float32)\n",
    "\n",
    "\n",
    "# Create model\n",
    "def multilayer_perceptron(x, weights, biases, keep_prob):\n",
    "    # Hidden layer with RELU activation\n",
    "    layer_1 = tf.add(tf.matmul(x, weights['h1']), biases['b1'])\n",
    "    layer_1 = tf.nn.relu(layer_1)\n",
    "    layer_1 = tf.nn.dropout(layer_1, keep_prob)\n",
    "    # Hidden layer with RELU activation\n",
    "    layer_2 = tf.add(tf.matmul(layer_1, weights['h2']), biases['b2'])\n",
    "    layer_2 = tf.nn.relu(layer_2)\n",
    "    # Output layer with linear activation\n",
    "    out_layer = tf.matmul(layer_2, weights['out']) + biases['out']\n",
    "    return out_layer\n",
    "\n",
    "# Store layers weight & bias\n",
    "weights = {\n",
    "    'h1': tf.Variable(tf.random_normal([n_input, n_hidden_1])),\n",
    "    'h2': tf.Variable(tf.random_normal([n_hidden_1, n_hidden_2])),\n",
    "    'out': tf.Variable(tf.random_normal([n_hidden_2, n_classes]))\n",
    "}\n",
    "biases = {\n",
    "    'b1': tf.Variable(tf.random_normal([n_hidden_1])),\n",
    "    'b2': tf.Variable(tf.random_normal([n_hidden_2])),\n",
    "    'out': tf.Variable(tf.random_normal([n_classes]))\n",
    "}\n",
    " \n",
    "\n",
    "\n",
    "# Construct model\n",
    "pred = multilayer_perceptron(x, weights, biases, keep_prob)\n",
    "\n",
    "# Define loss and optimizer\n",
    "cost = tf.reduce_mean(tf.nn.softmax_cross_entropy_with_logits(logits=pred, labels=y))\n",
    "optimizer = tf.train.AdamOptimizer(learning_rate=learning_rate).minimize(cost)\n",
    "\n",
    "# Initializing the variables\n",
    "init = tf.global_variables_initializer()\n",
    "\n",
    "# Launch the graph\n",
    "with tf.Session() as sess:\n",
    "    sess.run(init)\n",
    "    \n",
    "    \n",
    "    correct_prediction = tf.equal(tf.argmax(pred, 1), tf.argmax(y, 1))\n",
    "    # Calculate accuracy\n",
    "    accuracy = tf.reduce_mean(tf.cast(correct_prediction, \"float\"))\n",
    "\n",
    "    # Training cycle\n",
    "    for epoch in range(training_epochs):\n",
    "        avg_cost = 0.\n",
    "        total_batch = int(train_features.shape[0]/batch_size)\n",
    "        # Loop over all batches\n",
    "        for i in range(total_batch):\n",
    "            batch_x, batch_y = get_batch(train_features, train_labels, i, batch_size)\n",
    "            # Run optimization op (backprop) and cost op (to get loss value)\n",
    "            _, c = sess.run([optimizer, cost], feed_dict={x: batch_x,\n",
    "                                                          y: batch_y,\n",
    "                                                          keep_prob: 0.5})\n",
    "            # Compute average loss\n",
    "            avg_cost += c / total_batch\n",
    "        # Display logs per epoch step\n",
    "        if epoch % display_step == 0:\n",
    "            print(\"Epoch:\", '%04d' % (epoch+1), \"cost=\", \\\n",
    "                \"{:.9f}\".format(avg_cost))\n",
    "            print(\" Train accuracy:\", accuracy.eval(feed_dict = {x: train_features, y: train_labels, keep_prob : 1.0}))\n",
    "            \n",
    "            print(\" Validation accuracy:\", accuracy.eval(feed_dict = {x: validation_features, y: validation_labels, keep_prob : 1.0}))\n",
    "    print(\"Optimization Finished!\")\n",
    "\n",
    "    print()\n",
    "    # Test model\n",
    "    print(\"Test accuracy:\", accuracy.eval(feed_dict ={x: test_features, y: test_labels, keep_prob : 1.0}))\n"
   ]
  },
  {
   "cell_type": "code",
   "execution_count": null,
   "metadata": {
    "collapsed": true
   },
   "outputs": [],
   "source": []
  }
 ],
 "metadata": {
  "anaconda-cloud": {},
  "kernelspec": {
   "display_name": "Python [conda env:python35]",
   "language": "python",
   "name": "conda-env-python35-py"
  },
  "language_info": {
   "codemirror_mode": {
    "name": "ipython",
    "version": 3
   },
   "file_extension": ".py",
   "mimetype": "text/x-python",
   "name": "python",
   "nbconvert_exporter": "python",
   "pygments_lexer": "ipython3",
   "version": "3.5.2"
  }
 },
 "nbformat": 4,
 "nbformat_minor": 1
}
